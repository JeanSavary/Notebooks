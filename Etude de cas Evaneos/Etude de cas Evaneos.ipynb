{
 "cells": [
  {
   "cell_type": "markdown",
   "metadata": {},
   "source": [
    "# Étude de cas Evaneos\n",
    "### ( Évaluation de la pertinence d'un A/B test )\n",
    "-----------------------------------------------"
   ]
  },
  {
   "cell_type": "markdown",
   "metadata": {},
   "source": [
    "<h2><u> Contexte :</h2>\n",
    "<div align=\"justify\">\n",
    "        <p>Après avoir réalisé deux versions d'un même site web, l'une étant la version originale (A) du site et l'autre une version implémentant une nouvelle fonctionnalité (B), nous cherchons à déterminer l'efficacité de la nouvelle fonctionnalité.</p>\n",
    "        <p>Une version sera considérée plus efficace que l'autre si le taux de conversion y est supérieur, <em> i.e </em> <strong>ratio</strong> entre le nombre de sessions ouvertes sur le site et le nombre de devis demandés.</p>\n",
    "    <p> Après 1 mois d'essai, les résultats de l'étude sont les suivants : </p>\n",
    "    <ul>\n",
    "        <li> La version A a eu 4000 sessions et 200 conversions (taux de conversion de <strong>5%</strong>).</li>\n",
    "        <li> La version B a eu 4000 sessions et 260 conversions (taux de conversion de <strong>6.5%</strong>). </li>\n",
    "\n",
    "</div> \n",
    "\n",
    "<h2><u> Question : </u></h2>\n",
    "<div align=\"justify\">\n",
    "    <p> Ce résultat est-il statistiquement significatif , <em>i.e</em> la différence constatée entre les deux versions est-elle uniquement due à la nouvelle fonctionnalité ?</p>\n",
    "</div>"
   ]
  },
  {
   "cell_type": "markdown",
   "metadata": {},
   "source": [
    "----------------------"
   ]
  },
  {
   "cell_type": "markdown",
   "metadata": {},
   "source": [
    "<h2> Qu'est-ce qu'un test A/B ?</h2>\n",
    "<div align=\"justify\">\n",
    "    <p> Un test A/B est un type de test permettant de comparer l'efficacité de deux versions d'un même site quant à la réalisation d'un objectif (ici augmenter le taux de conversion). Dans notre cas nous avons nos deux versions du site : la version <strong>A</strong> (originale) et la version <strong>B</strong> (implémentant la nouvelle fonctionnalité). </p>\n",
    "    <p> Lors d'un A/B test il faut <strong> absolument </strong> comparer les deux candidats sur la même base, <em>i.e</em> les deux versions doivent être soumises au test dans les <strong> mêmes </strong> conditions.</p>\n",
    "    <p> Nos résultats montrent que le test B a de meilleurs résultats que le test A, néanmoins une éventuelle conclusion quant à son efficacité ne doit pas être trop hâtive, cela peut être dû à différents facteurs, notamment le hasard. Il faut par conséquent prouver que ces résultats sont <strong> statistiquement significatifs</strong>.</p>\n",
    "</div>"
   ]
  },
  {
   "cell_type": "markdown",
   "metadata": {},
   "source": [
    "--------"
   ]
  },
  {
   "cell_type": "markdown",
   "metadata": {},
   "source": [
    "<h2> Étude statistique : </h2>\n",
    "<div align=\"justify\">\n",
    "    <p> Comme évoqué précédemment, nous allons <strong>modéliser</strong> le mois d'essai en utilisant cette fois les statistiques de manière à confirmer ou non la pertinence des résultats obtenus. Cette méthode est essentielle car elle permettra de fournir un résultat général (en augmentant le nombre de sessions par exemple) que nous comparerons ensuite avec le résultat réel. </p>\n",
    "    <p> Pour se faire nous avons besoin de créer un modèle statistique qui soit le plus proche de la réalité. Nous avons dans le cas présent, des internautes qui visitent le site et demandent un devis avec un probabilité d'approximativement <strong>7%</strong>.</p>\n",
    "    <p> La <strong>loi binomiale</strong> est une modélisation mathématique se rapprochant de la réalité dans notre cas. Effectivement, celle ci représente le <strong>nombre de succès</strong> (ici demande d'un devis) que l'on obtient en réalisant des expériences <strong>identiques, aléatoires et indépendantes</strong> entre elles. Nous ferons donc l'hypothèse que chaque internaute visitant le site est indépendant des autres internautes (cela signifie que chaque utilisateur visite le site de sa propre initiative, personne ne l'a influencé à faire cela). De plus, le site étant identique pour chaque individu, les expériences utilisateurs seront donc identiques entre elles, et aléatoires car l'on ne sait pas <em> à priori </em> si l'utilisateur demandera un devis.</p>"
   ]
  },
  {
   "cell_type": "markdown",
   "metadata": {},
   "source": [
    "\n",
    "<h3><u> Première modélisation :</u> <br /></h3> \n",
    "<div align=\"justify\">\n",
    "    <p> <strong> Hypothèses </strong> : </p>\n",
    "    <ul>\n",
    "        <li> La page possède <strong>5000 sessions</strong> (5000 utilisateurs indépendants).</li>\n",
    "        <li> Le taux de conversion moyen du site est de <strong>7%.</strong> </li>\n",
    "    </ul><br />\n",
    "    <p><strong> Simulations du nombre de conversions pour 5000 sessions, avec une probabilité de conversion de 0.07 :</strong></p>\n",
    "</div>\n"
   ]
  },
  {
   "cell_type": "code",
   "execution_count": 63,
   "metadata": {},
   "outputs": [
    {
     "name": "stdout",
     "output_type": "stream",
     "text": [
      "Résultats de 5 simulations : \n",
      "\n",
      "362 conversions parmis 5000 sessions\n",
      "349 conversions parmis 5000 sessions\n",
      "339 conversions parmis 5000 sessions\n",
      "374 conversions parmis 5000 sessions\n",
      "345 conversions parmis 5000 sessions\n",
      "\n",
      "La moyenne du nombre de conversions pour nos 5 expériences est de 353 conversions\n"
     ]
    }
   ],
   "source": [
    "import matplotlib.pyplot as plt\n",
    "import numpy as np\n",
    "\n",
    "#Dans cette fonction nous utiliserons la fonction numpy.random.binomial() qui calcule directement le résultat de n expériences de bernouilli avec probabilité de succès égale à p\n",
    "def simulation_np (n, p) :\n",
    "    return (np.random.binomial(n,p))\n",
    "\n",
    "#Affichage des résultats pour 5 expériences\n",
    "print(\"Résultats de 5 simulations : \\n\")\n",
    "somme = 0\n",
    "\n",
    "for i in range(5):\n",
    "    resultat = simulation_np(5000,0.07)\n",
    "    somme += result\n",
    "    print(\"%(result)d conversions parmis 5000 sessions\" %{\"result\" : resultat})\n",
    "\n",
    "#Calcul de la moyenne de nos 5 expériences\n",
    "moyenne = somme / 5      \n",
    "print(\"\\nLa moyenne du nombre de conversions pour nos 5 expériences est de %(moyenne)d conversions\" %{\"moyenne\":moyenne}) "
   ]
  },
  {
   "cell_type": "markdown",
   "metadata": {},
   "source": [
    "----------"
   ]
  },
  {
   "cell_type": "code",
   "execution_count": 86,
   "metadata": {},
   "outputs": [
    {
     "name": "stdout",
     "output_type": "stream",
     "text": [
      "Résultats de 5 simulations : \n",
      "\n",
      "368 conversions parmis 5000 sessions\n",
      "347 conversions parmis 5000 sessions\n",
      "342 conversions parmis 5000 sessions\n",
      "359 conversions parmis 5000 sessions\n",
      "346 conversions parmis 5000 sessions\n",
      "\n",
      "La moyenne du nombre de conversions pour nos 5 expériences est de 342.800000 conversions\n"
     ]
    }
   ],
   "source": [
    "#Code alternatif plus concis\n",
    "\n",
    "#Résultats de nos 5 expériences :\n",
    "values_ = np.random.binomial(5000,0.07,5)\n",
    "print(\"Résultats de 5 simulations : \\n\")\n",
    "for value in values_ : \n",
    "    print(\"%(result)d conversions parmis 5000 sessions\" %{\"result\" : value})\n",
    "\n",
    "#Moyenne de nos 5 expériences\n",
    "print(\"\\nLa moyenne du nombre de conversions pour nos 5 expériences est de %(moyenne)f conversions\" %{\"moyenne\":np.mean(values)}) "
   ]
  },
  {
   "cell_type": "markdown",
   "metadata": {},
   "source": [
    "-------"
   ]
  },
  {
   "cell_type": "markdown",
   "metadata": {},
   "source": [
    "<div align=\"justify\">\n",
    "    <p> Nous voyons donc que le nombre de conversions varie d'une expérience à l'autre. </p>\n",
    "    <p> Évidemment la moyenne que nous avons calculée n'est pas très pertinente car le nombre d'expériences réalisées n'est pas suffisamment grand. Ce résultat n'est donc pas <strong>statistiquement significatif</strong> ! </p>\n",
    "    <p> Réalisons donc <strong>10 000 fois</strong> cette expérience plutôt que 5 fois et voyons ce que ça nous donne ! </p><br />\n",
    "</div>\n",
    "<p><strong> Représentation de la loi Binomiale pour 10 000 expériences : </strong></p>"
   ]
  },
  {
   "cell_type": "code",
   "execution_count": 118,
   "metadata": {
    "scrolled": true
   },
   "outputs": [
    {
     "name": "stdout",
     "output_type": "stream",
     "text": [
      "\n",
      "La moyenne du nombre de conversions pour nos 10 000 expériences est de : 349.987100 conversions\n",
      "La variance de notre distribution est de : 320.024134\n"
     ]
    },
    {
     "data": {
      "image/png": "[encoded data removed]",
      "text/plain": [
       "<matplotlib.figure.Figure at 0x10fd09048>"
      ]
     },
     "metadata": {},
     "output_type": "display_data"
    },
    {
     "name": "stdout",
     "output_type": "stream",
     "text": [
      "\n",
      "Espérance de la loi binomiale : 350.000000\n",
      "Écart-type de la loi normale : 18.041619 \n"
     ]
    }
   ],
   "source": [
    "import math\n",
    "import scipy.stats\n",
    "\n",
    "#Enregistrement de nos nombres de conversions pour nos 10000 expériences\n",
    "#Le troisième paramètre de random.binomial() spécifie le nombre d'expériences que nous voulons réaliser, ici 10000\n",
    "valeurs = np.random.binomial(5000,0.07, 10000) \n",
    "\n",
    "#Calcul de la moyenne pour nos 10000 expériences\n",
    "moyenne = np.mean(valeurs) \n",
    "\n",
    "#Calcul de la variance pour nos 10000 expériences\n",
    "variance = np.var(valeurs)\n",
    "\n",
    "#Calcul le nombre de valeurs de conversions différentes lors de la réalisation de nos 10000 expériences\n",
    "nb_unique_valeurs= len(set(valeurs))\n",
    "\n",
    "#Représentons désormais l'histogramme de nos valeurs enregistrées\n",
    "#L'axe des ordonnées de notre histogramme sera normalisé, ie les valeurs prises seront entre 0 et 1\n",
    "count, bins, ignored = plt.hist(valeurs, bins = nb_unique_valeurs, normed = 1, label='histogramme')\n",
    "plt.title(\"Distribution de notre loi binomial, avec n = 5000 et p = 0.07, pour 10 000 réalisations\")\n",
    "plt.xlabel(\"Nombre de conversions\")\n",
    "plt.ylabel(\"Nombre d'occurences normalisé entre 0 et 1\")\n",
    "\n",
    "#Moyenne de notre distribution\n",
    "print(\"\\nLa moyenne du nombre de conversions pour nos 10 000 expériences est de : %(moyenne)f conversions\" %{\"moyenne\":moyenne})\n",
    "\n",
    "#Variance de notre distribution\n",
    "print(\"La variance de notre distribution est de : %(variance)f\" %{\"variance\" : variance})\n",
    "\n",
    "#---------------------------\n",
    "#Loi normale correspondante\n",
    "\n",
    "#Calcul de l'espérance de notre loi binomiale précédente : mu = n * p\n",
    "mu = 5000 * 0.07\n",
    "\n",
    "#Calcul de l'écart type de notre loi binomiale précédente : sigma = sqrt(variance) = sqrt(n*p*(1-p))\n",
    "sigma = math.sqrt(5000 * 0.07 * (1-0.07))\n",
    "\n",
    "plt.plot(bins, 1/(sigma * np.sqrt(2 * np.pi)) * np.exp( - (bins - mu)**2 / (2 * sigma**2) ), linewidth=1, color='r', label='densite de probabilite loi normale')\n",
    "plt.axvline(x=375,color='g',label='seuil de significativité', linewidth = 1)\n",
    "plt.legend()\n",
    "plt.show()\n",
    "\n",
    "print(\"\\nEspérance de la loi binomiale : %(esp)f\" %{\"esp\" : mu})\n",
    "print(\"Écart-type de la loi normale : %(sigma)f \" %{\"sigma\" : sigma})"
   ]
  },
  {
   "cell_type": "markdown",
   "metadata": {},
   "source": [
    "<div align=\"justify\">\n",
    "    <p> On remarque alors que notre loi binomiale ressemble à une <strong>distribution normale </strong> (courbe en <strong>rouge</strong>) de moyenne et écart-type mentionnés en dessous de notre figure.</p>\n",
    "    <p> Cette fois-ci, même si la moyenne calculée est proche de celle que l'on avait précédemment calculé (avec 5 expériences), la moyenne a du sens \"statistiquement\" car elle est calculée à partir d'une grande population.</p> \n",
    "    <p> Cette nouvelle approximation nous permettra de réaliser des calculs de probabilité plus facilement, voyons donc cela !</p>\n",
    "</div>"
   ]
  },
  {
   "cell_type": "markdown",
   "metadata": {},
   "source": [
    "-----"
   ]
  },
  {
   "cell_type": "markdown",
   "metadata": {},
   "source": [
    "<p><strong>Calculons désormais la probabilité d'obtenir un nombre de conversions supérieur ou égal à 375 :</strong></p>\n"
   ]
  },
  {
   "cell_type": "markdown",
   "metadata": {},
   "source": [
    "<p> Nous utiliserons donc les <strong>formules</strong> de calcul de probabilité que nous offrent les lois normales.</p>\n",
    "<p>Nous cherchons à calculer la probabilité suivante :</p>\n",
    "\\begin{equation*}\n",
    "P(X\\geq 375)\n",
    "\\end{equation*}\n",
    "<div align=\"right\">\n",
    "<p><em>Où X est notre nombre de conversions.</em></p>\n",
    "</div>\n"
   ]
  },
  {
   "cell_type": "markdown",
   "metadata": {},
   "source": [
    "<p> Il n'y a pas de formule directe pour calculer cette probabilité, néanmoins nous connaissons la formule pour calculer :<br /></p>\n",
    "\\begin{equation*}\n",
    "P(X \\leq 374)\n",
    "\\end{equation*}\n",
    "<p> Nous obtiendrons ensuite le résultat grâce à :</p>\n",
    "\\begin{equation*}\n",
    "P(X\\geq 375) = 1 - P(X\\leq 374)\n",
    "\\end{equation*}"
   ]
  },
  {
   "cell_type": "markdown",
   "metadata": {},
   "source": [
    "<p> Or, ce que nous cherchons à calculer (la fonction de répartition de la loi normale) correspond à <strong>l'intégrale de sa densité de probabilité</strong>. Nous obtenons donc l'égalité suivante : </p>\n"
   ]
  },
  {
   "cell_type": "markdown",
   "metadata": {},
   "source": [
    "\\begin{equation*}\n",
    "P(X \\leq 374) = \\int_{-\\infty}^{374} \\frac{1}{\\sqrt{2\\pi}\\sigma}exp(-\\frac{1}{2}(\\frac{x-m}{\\sigma})^2) \\, \\mathrm{d}x \\\n",
    "\\end{equation*}\n",
    "<p><em>, avec m la moyenne de notre loi normale et sigma l'écart-type</em></p>\n",
    "<p><strong>Calculons donc cette valeur de probabilité à l'aide de python </strong>:</p>\n"
   ]
  },
  {
   "cell_type": "code",
   "execution_count": 82,
   "metadata": {},
   "outputs": [
    {
     "name": "stdout",
     "output_type": "stream",
     "text": [
      "La probabilité de trouver un nombre de conversions supérieur ou égal à 375 vaut : 0.091717\n",
      "Nous avons donc 9.171671%  de chance d'obtenir un nombre de conversions supérieur ou égal à 375 !\n"
     ]
    }
   ],
   "source": [
    "#La librairie scipy nous fournit la fonction stats.norm.cdf(x,m,sigma) qui donne directement la probabilité que X<=374\n",
    "proba = scipy.stats.norm.cdf(374,mu,sigma)\n",
    "\n",
    "#Nous trouvons ensuite la valeur désire 1 - P(X<=374)\n",
    "resultat = 1 - proba\n",
    "print(\"La probabilité de trouver un nombre de conversions supérieur ou égal à 375 vaut : %(resultat)f\" %{\"resultat\" : resultat})\n",
    "print(\"Nous avons donc %(pourcentage)f%%  de chance d'obtenir un nombre de conversions supérieur ou égal à 375 !\" %{\"pourcentage\" : resultat*100})\n"
   ]
  },
  {
   "cell_type": "markdown",
   "metadata": {},
   "source": [
    "<p><strong> Pourquoi avoir calculé cette probabilité ? </strong></p>\n",
    "<p> Nous avons calculé cette probabilité car un taux de conversion est considéré comme étant <strong>anormalement élevé</strong>, <em>ie</em> que la différence entre les deux versions n'est pas due au hasard mais bien à l'efficacité de la nouvelle version, lorsque la probabilité précédemment calculée est inférieure à <strong>5%</strong>. Ainsi dans notre exemple de modélisation (5000 sessions, taux moyen de 7%), le taux n'est pas anormalement élevé (9% > 5%).</p>"
   ]
  },
  {
   "cell_type": "markdown",
   "metadata": {},
   "source": [
    "--------"
   ]
  },
  {
   "cell_type": "markdown",
   "metadata": {},
   "source": [
    "<h3><u> Deuxième modélisation :</u> <br /></h3> \n",
    "<div align=\"justify\">\n",
    "    <p> <strong> Hypothèses </strong> : </p>\n",
    "    <ul>\n",
    "        <li> La page possède <strong>10000 sessions</strong> (10000 utilisateurs indépendants).</li>\n",
    "        <li> Le taux de conversion moyen du site est de <strong>7%.</strong> </li>\n",
    "    </ul><br />\n",
    "    <p><strong> Réitérons les étapes précédentes pour obtenir la probabilité d'avoir un nombre de conversions supérieur ou égal à 750 :</strong></p>\n",
    "</div>"
   ]
  },
  {
   "cell_type": "markdown",
   "metadata": {},
   "source": [
    "<p><u>1) Obtention de <strong>l'histogramme</strong> de notre loi binomiale :</u></p> "
   ]
  },
  {
   "cell_type": "code",
   "execution_count": 119,
   "metadata": {},
   "outputs": [
    {
     "name": "stdout",
     "output_type": "stream",
     "text": [
      "\n",
      "La moyenne du nombre de conversions pour nos 10 000 expériences est de : 700.119700 conversions\n",
      "La variance de notre distribution est de : 654.191572\n"
     ]
    },
    {
     "data": {
      "image/png": "[encoded data removed]",
      "text/plain": [
       "<matplotlib.figure.Figure at 0x1148b36d8>"
      ]
     },
     "metadata": {},
     "output_type": "display_data"
    },
    {
     "name": "stdout",
     "output_type": "stream",
     "text": [
      "\n",
      "Espérance de la loi binomiale : 700.000000\n",
      "Écart-type de la loi normale : 25.514702 \n"
     ]
    }
   ],
   "source": [
    "#On génère les nombres de conversions obtenus lors de nos 10000 essais\n",
    "valeurs2 = np.random.binomial(10000,0.07,10000)\n",
    "\n",
    "#On récupère la moyenne, variance, nombre de valeurs différentes\n",
    "moyenne2 = np.mean(valeurs2)\n",
    "variance2 = np.var(valeurs2)\n",
    "nb_unique_valeurs2 = len(set(valeurs2))\n",
    "\n",
    "#On représente l'histogramme de notre loi binomiale\n",
    "count2, bins2, ignored2 = plt.hist(valeurs2, bins = nb_unique_valeurs2, normed = 1, label=\"histogramme\")\n",
    "plt.title(\"Distribution de notre loi binomiale, avec n = 10000 et p = 0.07, pour 10 000 réalisations\")\n",
    "plt.xlabel(\"Nombre de conversions\")\n",
    "plt.ylabel(\"Nombre d'occurences normalisé entre 0 et 1\")\n",
    "\n",
    "#Moyenne de notre distribution\n",
    "print(\"\\nLa moyenne du nombre de conversions pour nos 10 000 expériences est de : %(moyenne)f conversions\" %{\"moyenne\":moyenne2})\n",
    "\n",
    "#Variance de notre distribution\n",
    "print(\"La variance de notre distribution est de : %(variance)f\" %{\"variance\" : variance2})\n",
    "\n",
    "#---------------------------\n",
    "#Loi normale correspondante\n",
    "\n",
    "#Calcul de l'espérance de notre loi binomiale précédente : mu = n * p\n",
    "mu2 = 10000 * 0.07\n",
    "\n",
    "#Calcul de l'écart type de notre loi binomiale précédente : sigma = sqrt(variance) = sqrt(n*p*(1-p))\n",
    "sigma2 = math.sqrt(10000 * 0.07 * (1-0.07))\n",
    "\n",
    "plt.plot(bins2, 1/(sigma2 * np.sqrt(2 * np.pi)) * np.exp( - (bins2 - mu2)**2 / (2 * sigma2**2) ), linewidth=1, color='r', label='densité de probabilité loi normale')\n",
    "plt.legend()\n",
    "plt.show()\n",
    "\n",
    "print(\"\\nEspérance de la loi binomiale : %(esp)f\" %{\"esp\" : mu2})\n",
    "print(\"Écart-type de la loi normale : %(sigma)f \" %{\"sigma\" : sigma2})"
   ]
  },
  {
   "cell_type": "markdown",
   "metadata": {},
   "source": [
    "-----"
   ]
  },
  {
   "cell_type": "markdown",
   "metadata": {},
   "source": [
    "<p><u>2) Calcul de la probabilité d'obtenir un nombre de conversions <strong>supérieur ou égal à 750</strong> :</u></p>\n"
   ]
  },
  {
   "cell_type": "markdown",
   "metadata": {},
   "source": [
    "<p>Cette fois-ci on cherche la probabilité suivante : </p>\n",
    "\\begin{equation*}\n",
    "P(X\\geq 750)\n",
    "\\end{equation*}\n",
    "<p>Soit le calcul suivant : </p>\n",
    "\\begin{equation*}\n",
    "P(X \\leq 749) = \\int_{-\\infty}^{749} \\frac{1}{\\sqrt{2\\pi}\\sigma}exp(-\\frac{1}{2}(\\frac{x-m}{\\sigma})^2) \\, \\mathrm{d}x \\\n",
    "\\end{equation*}\n",
    "<p>Et toujours : </p>\n",
    "\\begin{equation*}\n",
    "P(X\\geq 750) = 1 - P(X\\leq 749)\n",
    "\\end{equation*}\n",
    "<p><strong>Calculons cette valeur à l'aide de python :</strong></p>"
   ]
  },
  {
   "cell_type": "code",
   "execution_count": 114,
   "metadata": {},
   "outputs": [
    {
     "name": "stdout",
     "output_type": "stream",
     "text": [
      "La probabilité de trouver un nombre de conversions supérieur ou égal à 750 vaut : 0.027400\n",
      "Nous avons donc 2.739982%  de chance d'obtenir un nombre de conversions supérieur ou égal à 750 !\n"
     ]
    }
   ],
   "source": [
    "#La probabilité que X<=749\n",
    "proba2 = scipy.stats.norm.cdf(749,mu2,sigma2)\n",
    "\n",
    "#Nous trouvons ensuite la valeur désire 1 - P(X<=749)\n",
    "resultat2 = 1 - proba2\n",
    "print(\"La probabilité de trouver un nombre de conversions supérieur ou égal à 750 vaut : %(resultat)f\" %{\"resultat\" : resultat2})\n",
    "print(\"Nous avons donc %(pourcentage)f%%  de chance d'obtenir un nombre de conversions supérieur ou égal à 750 !\" %{\"pourcentage\" : resultat2*100})\n",
    "\n"
   ]
  },
  {
   "cell_type": "markdown",
   "metadata": {},
   "source": [
    "<p>Cette fois-ci nous avons donc une probabilité d'avoir un taux de conversion réel supérieur à 7.5% de : <strong>2.74%</strong>.</p>\n",
    "<p>Nous sommes donc <strong>sous la limite</strong> des 5% ! Ce qui signifie maintenant que nous avons un taux de conversion <strong>anormalement élevé</strong>, synonyme potentiellement de l'efficacité d'une nouvelle fonctionnalité.<br/></p>\n",
    "<p>Ce résultat illustre une <strong>notion importante</strong> ! En effet, pour une <strong>même</strong> technologie, <em>ie</em> un site détenant un taux de conversion de <strong>7%</strong>, le nombre de sessions à considérer est un <strong>facteur clé</strong> quant à la détermination de l'efficience d'une novuelle fonctionnalité. Dans notre premier cas, nous n'avions considérer que <strong>5 000 sessions</strong>, ce qui nous aurait conduit à conclure que la nouvelle fonctionnalité n'était pas efficace si nous n'avions pas essayé avec <strong>10 000 sessions</strong>. Cela aurait conduit potentiellement à une <strong>perte de chiffre d'affaire</strong> suite à une erreur d'analyse ! Il <strong>faut</strong> tenir compte du plein potentiel du site : si l'on considère 5 000 sessions alors que le site possède un nombre moyen de 10 000 sessions, alors on ne réalise pas l'étude statistique sur l'environnement réel.</p>\n",
    "<p>On pourrait alors se demander jusqu'à quel point peut-on augmenter le nombre de sessions considérées ? Selon moi, il faut considérer le nombre de sessions des <strong>années passées à la même saison</strong> (la demande varie selon les saisons) ainsi que le nombre moyen de sessions des <strong>précédents mois</strong> (pour tenir compte de l'essort du site). On choisira alors un nombre de sessions fidèle aux données récoltées précédemment.</p>\n"
   ]
  },
  {
   "cell_type": "markdown",
   "metadata": {},
   "source": [
    "----"
   ]
  },
  {
   "cell_type": "markdown",
   "metadata": {},
   "source": [
    "<p><strong>Représentation du seuil de significativité statistique sur histogramme (10 000 sessions) : </strong></p>"
   ]
  },
  {
   "cell_type": "code",
   "execution_count": 107,
   "metadata": {},
   "outputs": [
    {
     "data": {
      "image/png": "[encoded data removed]",
      "text/plain": [
       "<matplotlib.figure.Figure at 0x114be5b38>"
      ]
     },
     "metadata": {},
     "output_type": "display_data"
    }
   ],
   "source": [
    "#Représentation de l'histogramme précédent\n",
    "plt.hist(valeurs2, bins = nb_unique_valeurs2, normed = 1)\n",
    "plt.title(\"Distribution de notre loi binomiale, avec n = 10000 et p = 0.07, pour 10 000 réalisations\")\n",
    "plt.xlabel(\"Nombre de conversions\")\n",
    "plt.ylabel(\"Nombre d'occurences normalisé entre 0 et 1\")\n",
    "\n",
    "#Représentation du seuil de significativé à 750\n",
    "plt.axvline(x=750,linewidth=1,color='r', label=\"Seuil de significativité\")\n",
    "\n",
    "plt.legend()\n",
    "plt.show()"
   ]
  },
  {
   "cell_type": "markdown",
   "metadata": {},
   "source": [
    "----"
   ]
  },
  {
   "cell_type": "markdown",
   "metadata": {},
   "source": [
    "<h3> Réponse à la question initiale :</h3>\n",
    "<p> On va calculer la probabilité d'avoir un taux de conversions anormalement élevé</p>"
   ]
  },
  {
   "cell_type": "code",
   "execution_count": 120,
   "metadata": {},
   "outputs": [
    {
     "data": {
      "image/png": "[encoded data removed]",
      "text/plain": [
       "<matplotlib.figure.Figure at 0x113e39f98>"
      ]
     },
     "metadata": {},
     "output_type": "display_data"
    },
    {
     "name": "stdout",
     "output_type": "stream",
     "text": [
      "\n",
      "Espérance de la loi binomiale : 260.000000\n",
      "Écart-type de la loi normale : 15.591664 \n"
     ]
    }
   ],
   "source": [
    "#Considérons qu'on réalise 10 000fois l'expérience avec 4 000 utilisateurs et un taux de conversion moyen de 6.5% (cas version B)\n",
    "#Calculons les valeurs clés du problème\n",
    "valeurs3 = np.random.binomial(4000,0.065,10000)\n",
    "moyenne3 = np.mean(valeurs3)\n",
    "variance3 = np.var(valeurs3)\n",
    "nb_unique_valeurs3 = len(set(valeurs3))\n",
    "\n",
    "mu3 = 4000 * 0.065\n",
    "sigma3 = math.sqrt(mu3*(1-0.065))\n",
    "\n",
    "#Traçons l'histogramme et la densité de probabilité de la loi normale correspondante\n",
    "count3, bins3, ignored3 = plt.hist(valeurs3, bins = nb_unique_valeurs3, normed = 1, label=\"histogramme\")\n",
    "plt.plot(bins3, 1/(sigma3 * np.sqrt(2 * np.pi)) * np.exp( - (bins3 - mu3)**2 / (2 * sigma3**2) ), linewidth=1, color='r', label='densité de probabilité loi normale')\n",
    "plt.axvline(x=300, color='g', label='seuil de significativité', linewidth=1)\n",
    "plt.title(\"Distribution de notre loi binomiale, avec n = 4 000 et p = 0.065, pour 10 000 réalisations\")\n",
    "plt.xlabel(\"Nombre de conversions\")\n",
    "plt.ylabel(\"Nombre d'occurences normalisé entre 0 et 1\")\n",
    "plt.legend()\n",
    "plt.show()\n",
    "\n",
    "print(\"\\nEspérance de la loi binomiale : %(esp)f\" %{\"esp\" : mu3})\n",
    "print(\"Écart-type de la loi normale : %(sigma)f \" %{\"sigma\" : sigma3})"
   ]
  },
  {
   "cell_type": "markdown",
   "metadata": {},
   "source": [
    "<p>On cherche désormais : </p>\n",
    "\\begin{equation*}\n",
    "P(X\\geq 300) = 1 - P(X\\leq 299)\n",
    "\\end{equation*}\n",
    "<p> avec : </p> \n",
    "\\begin{equation*}\n",
    "P(X \\leq 299) = \\int_{-\\infty}^{299} \\frac{1}{\\sqrt{2\\pi}\\sigma}exp(-\\frac{1}{2}(\\frac{x-m}{\\sigma})^2) \\, \\mathrm{d}x \\\n",
    "\\end{equation*}"
   ]
  },
  {
   "cell_type": "code",
   "execution_count": 116,
   "metadata": {},
   "outputs": [
    {
     "name": "stdout",
     "output_type": "stream",
     "text": [
      "La probabilité de trouver un nombre de conversions supérieur ou égal à 300 vaut : 0.006186\n",
      "Nous avons donc 0.618628%  de chance d'obtenir un nombre de conversions supérieur ou égal à 300 !\n"
     ]
    }
   ],
   "source": [
    "#La probabilité que X<=299\n",
    "proba3 = scipy.stats.norm.cdf(299,mu3,sigma3)\n",
    "\n",
    "#Nous trouvons ensuite la valeur désire 1 - P(X<=299)\n",
    "resultat3 = 1 - proba3\n",
    "print(\"La probabilité de trouver un nombre de conversions supérieur ou égal à 300 vaut : %(resultat)f\" %{\"resultat\" : resultat3})\n",
    "print(\"Nous avons donc %(pourcentage)f%%  de chance d'obtenir un nombre de conversions supérieur ou égal à 300 !\" %{\"pourcentage\" : resultat3*100})\n",
    "\n",
    "\n"
   ]
  },
  {
   "cell_type": "markdown",
   "metadata": {},
   "source": [
    "<p>Ainsi, selon la règle de décision vue précédemment, nous pouvons affirmer après analyses statistiques que la différence visible entre les deux versions est <strong>statistiquement significative</strong> !</p> \n",
    "<p>La nouvelle version apporte donc un <strong>gain</strong> quant au taux de conversion par rapport à la version originale. Il serait donc judicieux d'implémenter cette nouvelle fonctionnalité sur le site officiel.</p>"
   ]
  },
  {
   "cell_type": "code",
   "execution_count": null,
   "metadata": {},
   "outputs": [],
   "source": []
  }
 ],
 "metadata": {
  "kernelspec": {
   "display_name": "Python 3",
   "language": "python",
   "name": "python3"
  },
  "language_info": {
   "codemirror_mode": {
    "name": "ipython",
    "version": 3
   },
   "file_extension": ".py",
   "mimetype": "text/x-python",
   "name": "python",
   "nbconvert_exporter": "python",
   "pygments_lexer": "ipython3",
   "version": "3.6.1"
  }
 },
 "nbformat": 4,
 "nbformat_minor": 2
}
